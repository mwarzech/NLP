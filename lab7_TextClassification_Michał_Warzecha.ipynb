{
  "cells": [
    {
      "cell_type": "markdown",
      "metadata": {
        "id": "XlKs3NHROwxU"
      },
      "source": [
        "# Lab 7 - Text classification"
      ]
    },
    {
      "cell_type": "code",
      "source": [
        "from google.colab import drive\n",
        "drive.mount('/content/drive')"
      ],
      "metadata": {
        "colab": {
          "base_uri": "https://localhost:8080/"
        },
        "id": "KBcFUiSBrypq",
        "outputId": "2919cfce-b602-44dc-c276-45aabbe86561"
      },
      "execution_count": 1,
      "outputs": [
        {
          "output_type": "stream",
          "name": "stdout",
          "text": [
            "Mounted at /content/drive\n"
          ]
        }
      ]
    },
    {
      "cell_type": "code",
      "execution_count": null,
      "metadata": {
        "id": "-gFyS8kDOgI0"
      },
      "outputs": [],
      "source": [
        "!wget http://2019.poleval.pl/task6/task_6-2.zip\n",
        "!wget http://2019.poleval.pl/task6/task6_test.zip\n",
        "!unzip task_6-2.zip\n",
        "!unzip task6_test.zip"
      ]
    },
    {
      "cell_type": "code",
      "execution_count": 3,
      "metadata": {
        "id": "pdSys6yXPZMw"
      },
      "outputs": [],
      "source": [
        "train_set_text = []\n",
        "test_set_text = []\n",
        "\n",
        "with open(\"training_set_clean_only_text.txt\") as fp:\n",
        "    train_set_text = fp.readlines()\n",
        "    train_set_text = [line.replace(\"@anonymized_account\", \"\").strip() for line in train_set_text]\n",
        "    \n",
        "with open(\"Task6/task 02/test_set_only_text.txt\") as fp:\n",
        "    test_set_text = fp.readlines()\n",
        "    test_set_text = [line.replace(\"@anonymized_account\", \"\").strip() for line in test_set_text]"
      ]
    },
    {
      "cell_type": "code",
      "execution_count": 4,
      "metadata": {
        "id": "BlZzEZkhSFTY"
      },
      "outputs": [],
      "source": [
        "train_set_labels = []\n",
        "test_set_labels = []\n",
        "\n",
        "with open(\"training_set_clean_only_tags.txt\") as fp:\n",
        "    train_set_labels = fp.readlines()\n",
        "    train_set_labels = [int(label) for label in train_set_labels]\n",
        "\n",
        "with open(\"Task6/task 02/test_set_only_tags.txt\") as fp:\n",
        "    test_set_labels = fp.readlines()\n",
        "    test_set_labels = [int(label) for label in test_set_labels]"
      ]
    },
    {
      "cell_type": "code",
      "execution_count": 5,
      "metadata": {
        "id": "RJtztsLVShp9"
      },
      "outputs": [],
      "source": [
        "train_task_2_labels = list(train_set_labels)\n",
        "train_task_1_labels = [(0 if label == 0 else 1) for label in train_task_2_labels]\n",
        "\n",
        "test_task_2_labels = list(test_set_labels)\n",
        "test_task_1_labels = [(0 if label == 0 else 1) for label in test_task_2_labels]"
      ]
    },
    {
      "cell_type": "code",
      "execution_count": 6,
      "metadata": {
        "colab": {
          "base_uri": "https://localhost:8080/"
        },
        "id": "T85IaRjDY0Qg",
        "outputId": "9d17cffa-f80e-4b86-9979-ed34c8600c19"
      },
      "outputs": [
        {
          "output_type": "stream",
          "name": "stdout",
          "text": [
            "Task 1:\n",
            "Train set (10041 items):\n",
            "0 class count: 9190\n",
            "1 class count: 851\n",
            "Test set (1000 items):\n",
            "0 class count: 866\n",
            "1 class count: 134\n",
            "\n",
            "Task 2:\n",
            "Train set (10041 items):\n",
            "0 class count: 9190\n",
            "1 class count: 253\n",
            "2 class count: 253\n",
            "Test set (1000 items):\n",
            "0 class count: 866\n",
            "1 class count: 25\n",
            "2 class count: 25\n"
          ]
        }
      ],
      "source": [
        "print(\"Task 1:\")\n",
        "print(f\"Train set ({len(train_task_1_labels)} items):\")\n",
        "print(f\"0 class count: {sum([1 if label == 0 else 0 for label in train_task_1_labels])}\")\n",
        "print(f\"1 class count: {sum([1 if label == 1 else 0 for label in train_task_1_labels])}\")\n",
        "print(f\"Test set ({len(test_task_1_labels)} items):\")\n",
        "print(f\"0 class count: {sum([1 if label == 0 else 0 for label in test_task_1_labels])}\")\n",
        "print(f\"1 class count: {sum([1 if label == 1 else 0 for label in test_task_1_labels])}\")\n",
        "print(\"\")\n",
        "print(\"Task 2:\")\n",
        "print(f\"Train set ({len(train_task_2_labels)} items):\")\n",
        "print(f\"0 class count: {sum([1 if label == 0 else 0 for label in train_task_2_labels])}\")\n",
        "print(f\"1 class count: {sum([1 if label == 1 else 0 for label in train_task_2_labels])}\")\n",
        "print(f\"2 class count: {sum([1 if label == 1 else 0 for label in train_task_2_labels])}\")\n",
        "print(f\"Test set ({len(test_task_2_labels)} items):\")\n",
        "print(f\"0 class count: {sum([1 if label == 0 else 0 for label in test_task_2_labels])}\")\n",
        "print(f\"1 class count: {sum([1 if label == 1 else 0 for label in test_task_2_labels])}\")\n",
        "print(f\"2 class count: {sum([1 if label == 1 else 0 for label in test_task_2_labels])}\")"
      ]
    },
    {
      "cell_type": "markdown",
      "metadata": {
        "id": "b76iNopzgE4R"
      },
      "source": [
        "### TF-IDF Naive-Bayes"
      ]
    },
    {
      "cell_type": "code",
      "execution_count": null,
      "metadata": {
        "id": "drTeFoGfibWn"
      },
      "outputs": [],
      "source": [
        "!pip install -U spacy"
      ]
    },
    {
      "cell_type": "code",
      "execution_count": null,
      "metadata": {
        "id": "I1xw_CVIiBMy"
      },
      "outputs": [],
      "source": [
        "!python -m spacy download pl_core_news_lg"
      ]
    },
    {
      "cell_type": "code",
      "execution_count": null,
      "metadata": {
        "id": "XC7RwukZl465"
      },
      "outputs": [],
      "source": [
        "!wget https://raw.githubusercontent.com/bieli/stopwords/master/polish.stopwords.txt"
      ]
    },
    {
      "cell_type": "code",
      "execution_count": 10,
      "metadata": {
        "id": "oMQkgMITmnL7"
      },
      "outputs": [],
      "source": [
        "stopwords = []\n",
        "with open(\"polish.stopwords.txt\") as file:\n",
        "    stopwords = file.readlines()\n",
        "    stopwords = [word.strip() for word in stopwords]"
      ]
    },
    {
      "cell_type": "code",
      "execution_count": 11,
      "metadata": {
        "id": "lrHhCN83h9Jk"
      },
      "outputs": [],
      "source": [
        "import spacy\n",
        "from tqdm import tqdm\n",
        "\n",
        "nlp = spacy.load(\"pl_core_news_lg\")"
      ]
    },
    {
      "cell_type": "code",
      "source": [
        "train_docs = [nlp(text) for text in tqdm(train_set_text)]"
      ],
      "metadata": {
        "colab": {
          "base_uri": "https://localhost:8080/"
        },
        "id": "JbOhrbPuQ75N",
        "outputId": "60ed3e5f-46c8-4074-df38-b6293c3952ef"
      },
      "execution_count": 12,
      "outputs": [
        {
          "output_type": "stream",
          "name": "stderr",
          "text": [
            "100%|██████████| 10041/10041 [02:18<00:00, 72.57it/s]\n"
          ]
        }
      ]
    },
    {
      "cell_type": "code",
      "execution_count": 13,
      "metadata": {
        "colab": {
          "base_uri": "https://localhost:8080/"
        },
        "id": "pAX56IyHhNb1",
        "outputId": "2656863d-d436-42a2-d31e-1e63a003e658"
      },
      "outputs": [
        {
          "output_type": "stream",
          "name": "stderr",
          "text": [
            "100%|██████████| 1000/1000 [00:13<00:00, 76.08it/s]\n"
          ]
        }
      ],
      "source": [
        "test_docs = [nlp(text) for text in tqdm(test_set_text)]"
      ]
    },
    {
      "cell_type": "code",
      "execution_count": 14,
      "metadata": {
        "id": "OBNOhtcCjf2n"
      },
      "outputs": [],
      "source": [
        "train_tokenized = [[token.lemma_ for token in doc if token.lemma_.isalpha() and not token.lemma_ in stopwords] for doc in train_docs]\n",
        "test_tokenized = [[token.lemma_ for token in doc if token.lemma_.isalpha() and not token.lemma_ in stopwords] for doc in test_docs]"
      ]
    },
    {
      "cell_type": "code",
      "execution_count": 15,
      "metadata": {
        "id": "G9Wk8lSewNJE"
      },
      "outputs": [],
      "source": [
        "from sklearn.feature_extraction.text import TfidfVectorizer\n",
        "\n",
        "vectorizer = TfidfVectorizer()\n",
        "train_tf_idf_docs = vectorizer.fit_transform([\" \".join(tokens) for tokens in train_tokenized])\n",
        "test_tf_idf_docs = vectorizer.transform([\" \".join(tokens) for tokens in test_tokenized])"
      ]
    },
    {
      "cell_type": "code",
      "execution_count": 16,
      "metadata": {
        "id": "n6JlfvjepEB0"
      },
      "outputs": [],
      "source": [
        "from sklearn.naive_bayes import MultinomialNB\n",
        "\n",
        "def train_and_test_NB_model(X_train, y_train, X_test):\n",
        "  mnb = MultinomialNB()\n",
        "  mnb = mnb.fit(X_train, y_train)\n",
        "  y_pred = mnb.predict(X_test)\n",
        "  return mnb, y_pred"
      ]
    },
    {
      "cell_type": "code",
      "execution_count": 17,
      "metadata": {
        "id": "VDkQ0V5DtX6P"
      },
      "outputs": [],
      "source": [
        "def transform_text(text):\n",
        "  doc = nlp(text)\n",
        "  cleaned_text = \" \".join([token.lemma_ for token in doc if token.lemma_.isalpha() and not token.lemma_ in stopwords])\n",
        "  return vectorizer.transform([cleaned_text])\n"
      ]
    },
    {
      "cell_type": "code",
      "execution_count": 18,
      "metadata": {
        "id": "ctGepNZVzTFs"
      },
      "outputs": [],
      "source": [
        "from sklearn.metrics import matthews_corrcoef, f1_score\n",
        "\n",
        "def get_metrics(y_test, y_pred, averages=['binary']):\n",
        "  Acc = sum([pred == test for pred, test in zip(y_pred, y_test)])/len(y_test)\n",
        "  F1 = [f1_score(y_test, y_pred, average=average) for average in averages]\n",
        "  MCC = matthews_corrcoef(y_test, y_pred)\n",
        "  return Acc, F1, MCC\n",
        "\n",
        "def print_metrics(Acc, F1, MCC, f1_names=[\"\"]):\n",
        "  print(f\"Accuracy: {Acc}, \", end = \"\")\n",
        "  [print(f\"F1 {f_name}: {f_score}, \", end=\"\") for f_name, f_score in zip(f1_names,F1)]\n",
        "  print(f\"MCC: {MCC}\")"
      ]
    },
    {
      "cell_type": "code",
      "execution_count": 19,
      "metadata": {
        "colab": {
          "base_uri": "https://localhost:8080/"
        },
        "id": "wxjXrWmU60hX",
        "outputId": "fbcc770d-33e3-4cdf-d1af-cec13ab2df4e"
      },
      "outputs": [
        {
          "output_type": "stream",
          "name": "stdout",
          "text": [
            "Task1:\n",
            "Naive Bayes - Accuracy: 0.866, F1 : 0.0, MCC: 0.0\n"
          ]
        }
      ],
      "source": [
        "NB_task1, y_pred_NB_task1 = train_and_test_NB_model(train_tf_idf_docs, train_task_1_labels, test_tf_idf_docs)\n",
        "print(f\"Task1:\\nNaive Bayes - \", end=\"\")\n",
        "bayes_results_1 = get_metrics(test_task_1_labels, y_pred_NB_task1)\n",
        "print_metrics(*bayes_results_1)"
      ]
    },
    {
      "cell_type": "code",
      "execution_count": 20,
      "metadata": {
        "colab": {
          "base_uri": "https://localhost:8080/"
        },
        "id": "lfbGXeUs6QAy",
        "outputId": "22ac1068-6684-4ad5-991a-d192d4cb28d2"
      },
      "outputs": [
        {
          "output_type": "stream",
          "name": "stdout",
          "text": [
            "Task2:\n",
            "Naive Bayes - Accuracy: 0.866, F1 micro: 0.866, F1 macro: 0.3093962129331904, MCC: 0.0\n"
          ]
        }
      ],
      "source": [
        "NB_task2, y_pred_NB_task2 = train_and_test_NB_model(train_tf_idf_docs, train_task_2_labels, test_tf_idf_docs)\n",
        "print(f\"Task2:\\nNaive Bayes - \", end=\"\")\n",
        "bayes_results_2 = get_metrics(test_task_2_labels, y_pred_NB_task1, ['micro', 'macro'])\n",
        "print_metrics(*bayes_results_2, ['micro', 'macro'])"
      ]
    },
    {
      "cell_type": "markdown",
      "metadata": {
        "id": "d7naoXAndsnA"
      },
      "source": [
        "### Fasttext"
      ]
    },
    {
      "cell_type": "code",
      "execution_count": null,
      "metadata": {
        "id": "UkawZ7-aaxj8"
      },
      "outputs": [],
      "source": [
        "!pip install fasttext"
      ]
    },
    {
      "cell_type": "code",
      "execution_count": 22,
      "metadata": {
        "id": "vEyHYCJQY48y"
      },
      "outputs": [],
      "source": [
        "import fasttext"
      ]
    },
    {
      "cell_type": "code",
      "execution_count": 23,
      "metadata": {
        "id": "5toRpazvbzQt"
      },
      "outputs": [],
      "source": [
        "with open('task1.train', 'w') as file:\n",
        "  for text, label in zip(train_set_text, train_task_1_labels):\n",
        "    file.write(f\"__label__{label} {text}\\n\")\n",
        "\n",
        "with open('task1.test', 'w') as file:\n",
        "  for text, label in zip(test_set_text, test_task_1_labels):\n",
        "    file.write(f\"__label__{label} {text}\\n\")\n",
        "\n",
        "with open('task2.train', 'w') as file:\n",
        "  for text, label in zip(train_set_text, train_task_2_labels):\n",
        "    file.write(f\"__label__{label} {text}\\n\")\n",
        "\n",
        "with open('task2.test', 'w') as file:\n",
        "  for text, label in zip(test_set_text, test_task_2_labels):\n",
        "    file.write(f\"__label__{label} {text}\\n\")"
      ]
    },
    {
      "cell_type": "code",
      "execution_count": 24,
      "metadata": {
        "id": "Kk81XcahY4_z"
      },
      "outputs": [],
      "source": [
        "model_task1 = fasttext.train_supervised(input=\"task1.train\")"
      ]
    },
    {
      "cell_type": "code",
      "execution_count": 38,
      "metadata": {
        "colab": {
          "base_uri": "https://localhost:8080/"
        },
        "id": "jaDNd0w1ccmf",
        "outputId": "239d09db-0f15-4f1a-aba1-577554bfd6f5"
      },
      "outputs": [
        {
          "output_type": "execute_result",
          "data": {
            "text/plain": [
              "0"
            ]
          },
          "metadata": {},
          "execution_count": 38
        }
      ],
      "source": [
        "int(model_task1.predict(\"Dzień doberek\")[0][0][-1])"
      ]
    },
    {
      "cell_type": "code",
      "source": [
        "model_task1.test(\"task1.test\")"
      ],
      "metadata": {
        "colab": {
          "base_uri": "https://localhost:8080/"
        },
        "id": "L9pvOhSSSPHm",
        "outputId": "f2f3aa0e-44af-480c-c41a-a02394968cc7"
      },
      "execution_count": 33,
      "outputs": [
        {
          "output_type": "execute_result",
          "data": {
            "text/plain": [
              "(1000, 0.871, 0.871)"
            ]
          },
          "metadata": {},
          "execution_count": 33
        }
      ]
    },
    {
      "cell_type": "code",
      "execution_count": 34,
      "metadata": {
        "id": "pBwRzJpKccxG"
      },
      "outputs": [],
      "source": [
        "fasttest_task1_preds = [int(model_task1.predict(test_text)[0][0][-1]) for test_text in test_set_text]"
      ]
    },
    {
      "cell_type": "code",
      "source": [
        "print(f\"Task 1:\\nFasttext - \", end=\"\")\n",
        "fasttext_results_1 = get_metrics(test_task_1_labels, fasttest_task1_preds)\n",
        "print_metrics(*fasttext_results_1)"
      ],
      "metadata": {
        "colab": {
          "base_uri": "https://localhost:8080/"
        },
        "id": "4QS9b-xiSTkb",
        "outputId": "975b9da6-4142-4cf8-99aa-0b479248ebc7"
      },
      "execution_count": 35,
      "outputs": [
        {
          "output_type": "stream",
          "name": "stdout",
          "text": [
            "Task 1:\n",
            "Fasttext - Accuracy: 0.871, F1 : 0.19875776397515527, MCC: 0.22425449261805191\n"
          ]
        }
      ]
    },
    {
      "cell_type": "code",
      "execution_count": 39,
      "metadata": {
        "id": "20HLyRetDo-k"
      },
      "outputs": [],
      "source": [
        "model_task2 = fasttext.train_supervised(input=\"task2.train\")"
      ]
    },
    {
      "cell_type": "code",
      "execution_count": 40,
      "metadata": {
        "colab": {
          "base_uri": "https://localhost:8080/"
        },
        "id": "MZeHedKdDrR2",
        "outputId": "ed0f5c49-dd3d-408b-c209-ef8121b556ba"
      },
      "outputs": [
        {
          "output_type": "execute_result",
          "data": {
            "text/plain": [
              "(1000, 0.864, 0.864)"
            ]
          },
          "metadata": {},
          "execution_count": 40
        }
      ],
      "source": [
        "model_task2.test(\"task2.test\")"
      ]
    },
    {
      "cell_type": "code",
      "source": [
        "fasttest_task2_preds = [int(model_task2.predict(test_text)[0][0][-1]) for test_text in test_set_text]"
      ],
      "metadata": {
        "id": "p2Tx1-iESvhj"
      },
      "execution_count": 41,
      "outputs": []
    },
    {
      "cell_type": "code",
      "source": [
        "print(f\"Task 2:\\nFasttext - \", end=\"\")\n",
        "fasttext_results_2 = get_metrics(test_task_2_labels, fasttest_task2_preds, ['micro', 'macro'])\n",
        "print_metrics(*fasttext_results_2, ['micro', 'macro'])"
      ],
      "metadata": {
        "colab": {
          "base_uri": "https://localhost:8080/"
        },
        "id": "1Fb5zmucTBIg",
        "outputId": "2631e775-1185-4290-ec11-05323d5302ea"
      },
      "execution_count": 45,
      "outputs": [
        {
          "output_type": "stream",
          "name": "stdout",
          "text": [
            "Task 2:\n",
            "Fasttext - Accuracy: 0.864, F1 micro: 0.864, F1 macro: 0.3290332512315271, MCC: 0.09346712551754159\n"
          ]
        }
      ]
    },
    {
      "cell_type": "markdown",
      "metadata": {
        "id": "KlY4asi9dwHx"
      },
      "source": [
        "### Transformer"
      ]
    },
    {
      "cell_type": "code",
      "execution_count": null,
      "metadata": {
        "id": "9CCW26yQdy4P"
      },
      "outputs": [],
      "source": [
        "!pip install transformers"
      ]
    },
    {
      "cell_type": "code",
      "execution_count": 47,
      "metadata": {
        "id": "Xaa3ptl4O1fp"
      },
      "outputs": [],
      "source": [
        "import torch\n",
        "\n",
        "class CustomTextDataset(torch.utils.data.Dataset):\n",
        "    def __init__(self, encodings, labels):\n",
        "        self.encodings = encodings\n",
        "        self.labels = labels\n",
        "\n",
        "    def __len__(self):\n",
        "        return len(self.labels)\n",
        "\n",
        "    def __getitem__(self, idx):\n",
        "        item = {key: torch.tensor(val[idx]).to(device) for key, val in self.encodings.items()}\n",
        "        item['labels'] = torch.tensor(self.labels[idx])\n",
        "        return item"
      ]
    },
    {
      "cell_type": "code",
      "execution_count": 48,
      "metadata": {
        "colab": {
          "base_uri": "https://localhost:8080/"
        },
        "id": "WFdpXFkfWulu",
        "outputId": "f1593201-b2bc-45ba-aad7-fb844870cf43"
      },
      "outputs": [
        {
          "output_type": "stream",
          "name": "stdout",
          "text": [
            "cpu\n"
          ]
        }
      ],
      "source": [
        "device = torch.device(\"cuda:0\" if torch.cuda.is_available() else \"cpu\")\n",
        "print(device)"
      ]
    },
    {
      "cell_type": "code",
      "execution_count": 49,
      "metadata": {
        "id": "21CNL7JzNk5I"
      },
      "outputs": [],
      "source": [
        "torch.cuda.empty_cache()"
      ]
    },
    {
      "cell_type": "code",
      "execution_count": 50,
      "metadata": {
        "id": "QFHFJniIdzeo"
      },
      "outputs": [],
      "source": [
        "from transformers import BertTokenizerFast, BertForSequenceClassification, AutoTokenizer\n",
        "from transformers import Trainer, TrainingArguments\n",
        "\n",
        "model_name = \"allegro/herbert-base-cased\"\n",
        "max_length = 512\n",
        "target_names_task1 = [\"0\", \"1\"]\n",
        "target_names_task2 = [\"0\", \"1\", \"2\"]\n"
      ]
    },
    {
      "cell_type": "code",
      "source": [
        "tokenizer = AutoTokenizer.from_pretrained(model_name, do_lower_case=True)\n",
        "bert_task1=BertForSequenceClassification.from_pretrained(model_name, num_labels=len(target_names_task1))\n",
        "bert_task2=BertForSequenceClassification.from_pretrained(model_name, num_labels=len(target_names_task2))"
      ],
      "metadata": {
        "id": "HPuPcSceyC2F"
      },
      "execution_count": null,
      "outputs": []
    },
    {
      "cell_type": "code",
      "source": [
        "bert_1_path = \"/content/drive/MyDrive/Colab Notebooks/transformer_models/transformer_model_task1/\"\n",
        "bert_2_path = \"/content/drive/MyDrive/Colab Notebooks/transformer_models/transformer_model_task2/\"\n",
        "\n",
        "tokenizer = AutoTokenizer.from_pretrained(model_name, do_lower_case=True)\n",
        "bert_task1=BertForSequenceClassification.from_pretrained(bert_1_path, local_files_only=True)\n",
        "bert_task2=BertForSequenceClassification.from_pretrained(bert_2_path, local_files_only=True)"
      ],
      "metadata": {
        "id": "sok95EXcyGmk"
      },
      "execution_count": 52,
      "outputs": []
    },
    {
      "cell_type": "code",
      "execution_count": null,
      "metadata": {
        "id": "NIELx5JuXF6C"
      },
      "outputs": [],
      "source": [
        "bert_task1.to(device)"
      ]
    },
    {
      "cell_type": "code",
      "source": [
        "bert_task2.to(device)"
      ],
      "metadata": {
        "id": "J-XrHdTGUFQE"
      },
      "execution_count": null,
      "outputs": []
    },
    {
      "cell_type": "code",
      "execution_count": 53,
      "metadata": {
        "id": "bA5W4K7sRu2C"
      },
      "outputs": [],
      "source": [
        "train_encodings = tokenizer(train_set_text, truncation=True, padding=True, max_length=max_length)\n",
        "train_dataset_1 = CustomTextDataset(train_encodings, train_task_1_labels)\n",
        "train_dataset_2 = CustomTextDataset(train_encodings, train_task_2_labels)\n",
        "test_encodings = tokenizer(test_set_text, truncation=True, padding=True, max_length=max_length)\n",
        "test_dataset_1 = CustomTextDataset(test_encodings, test_task_1_labels)\n",
        "test_dataset_2 = CustomTextDataset(test_encodings, test_task_2_labels)\n"
      ]
    },
    {
      "cell_type": "code",
      "execution_count": 56,
      "metadata": {
        "id": "mR_yQLQHK1dU"
      },
      "outputs": [],
      "source": [
        "from pathlib import Path\n",
        "\n",
        "output_dir = \"./transformer_model/\"\n",
        "Path(output_dir).mkdir(parents=True, exist_ok=True)\n",
        "\n",
        "training_args = TrainingArguments(\n",
        "    output_dir,\n",
        "    num_train_epochs=10,\n",
        "    per_device_train_batch_size=32,  # batch size per device during training\n",
        "    weight_decay=0.01,               # strength of weight decay\n",
        "    load_best_model_at_end=True,\n",
        "    logging_steps=200,\n",
        "    save_steps=600,\n",
        "    evaluation_strategy=\"steps\",\n",
        "    dataloader_pin_memory=False,\n",
        ")\n",
        "\n",
        "trainer_1 = Trainer( model=bert_task1,args=training_args,train_dataset=train_dataset_1, eval_dataset=test_dataset_1)\n",
        "trainer_2 = Trainer( model=bert_task2,args=training_args,train_dataset=train_dataset_2, eval_dataset=test_dataset_2)"
      ]
    },
    {
      "cell_type": "code",
      "execution_count": null,
      "metadata": {
        "colab": {
          "base_uri": "https://localhost:8080/",
          "height": 1000
        },
        "id": "BS9izvl5dzhE",
        "outputId": "affb69b9-70a1-4b99-a756-597480c3dd5f"
      },
      "outputs": [
        {
          "output_type": "stream",
          "name": "stderr",
          "text": [
            "***** Running training *****\n",
            "  Num examples = 10041\n",
            "  Num Epochs = 10\n",
            "  Instantaneous batch size per device = 32\n",
            "  Total train batch size (w. parallel, distributed & accumulation) = 32\n",
            "  Gradient Accumulation steps = 1\n",
            "  Total optimization steps = 3140\n"
          ]
        },
        {
          "output_type": "display_data",
          "data": {
            "text/html": [
              "\n",
              "    <div>\n",
              "      \n",
              "      <progress value='3140' max='3140' style='width:300px; height:20px; vertical-align: middle;'></progress>\n",
              "      [3140/3140 53:29, Epoch 10/10]\n",
              "    </div>\n",
              "    <table border=\"1\" class=\"dataframe\">\n",
              "  <thead>\n",
              "    <tr style=\"text-align: left;\">\n",
              "      <th>Step</th>\n",
              "      <th>Training Loss</th>\n",
              "      <th>Validation Loss</th>\n",
              "    </tr>\n",
              "  </thead>\n",
              "  <tbody>\n",
              "    <tr>\n",
              "      <td>200</td>\n",
              "      <td>0.242000</td>\n",
              "      <td>0.321878</td>\n",
              "    </tr>\n",
              "    <tr>\n",
              "      <td>400</td>\n",
              "      <td>0.222800</td>\n",
              "      <td>0.258359</td>\n",
              "    </tr>\n",
              "    <tr>\n",
              "      <td>600</td>\n",
              "      <td>0.170900</td>\n",
              "      <td>0.352744</td>\n",
              "    </tr>\n",
              "    <tr>\n",
              "      <td>800</td>\n",
              "      <td>0.117400</td>\n",
              "      <td>0.333484</td>\n",
              "    </tr>\n",
              "    <tr>\n",
              "      <td>1000</td>\n",
              "      <td>0.098000</td>\n",
              "      <td>0.422801</td>\n",
              "    </tr>\n",
              "    <tr>\n",
              "      <td>1200</td>\n",
              "      <td>0.066000</td>\n",
              "      <td>0.489453</td>\n",
              "    </tr>\n",
              "    <tr>\n",
              "      <td>1400</td>\n",
              "      <td>0.052300</td>\n",
              "      <td>0.560529</td>\n",
              "    </tr>\n",
              "    <tr>\n",
              "      <td>1600</td>\n",
              "      <td>0.040400</td>\n",
              "      <td>0.691377</td>\n",
              "    </tr>\n",
              "    <tr>\n",
              "      <td>1800</td>\n",
              "      <td>0.025000</td>\n",
              "      <td>0.841661</td>\n",
              "    </tr>\n",
              "    <tr>\n",
              "      <td>2000</td>\n",
              "      <td>0.019500</td>\n",
              "      <td>0.702871</td>\n",
              "    </tr>\n",
              "    <tr>\n",
              "      <td>2200</td>\n",
              "      <td>0.010000</td>\n",
              "      <td>0.817883</td>\n",
              "    </tr>\n",
              "    <tr>\n",
              "      <td>2400</td>\n",
              "      <td>0.006300</td>\n",
              "      <td>0.801651</td>\n",
              "    </tr>\n",
              "    <tr>\n",
              "      <td>2600</td>\n",
              "      <td>0.008200</td>\n",
              "      <td>0.836479</td>\n",
              "    </tr>\n",
              "    <tr>\n",
              "      <td>2800</td>\n",
              "      <td>0.004800</td>\n",
              "      <td>0.830874</td>\n",
              "    </tr>\n",
              "    <tr>\n",
              "      <td>3000</td>\n",
              "      <td>0.005800</td>\n",
              "      <td>0.825710</td>\n",
              "    </tr>\n",
              "  </tbody>\n",
              "</table><p>"
            ],
            "text/plain": [
              "<IPython.core.display.HTML object>"
            ]
          },
          "metadata": {}
        },
        {
          "output_type": "stream",
          "name": "stderr",
          "text": [
            "***** Running Evaluation *****\n",
            "  Num examples = 1000\n",
            "  Batch size = 8\n",
            "***** Running Evaluation *****\n",
            "  Num examples = 1000\n",
            "  Batch size = 8\n",
            "***** Running Evaluation *****\n",
            "  Num examples = 1000\n",
            "  Batch size = 8\n",
            "Saving model checkpoint to ./transformer_model/checkpoint-600\n",
            "Configuration saved in ./transformer_model/checkpoint-600/config.json\n",
            "Model weights saved in ./transformer_model/checkpoint-600/pytorch_model.bin\n",
            "***** Running Evaluation *****\n",
            "  Num examples = 1000\n",
            "  Batch size = 8\n",
            "***** Running Evaluation *****\n",
            "  Num examples = 1000\n",
            "  Batch size = 8\n",
            "***** Running Evaluation *****\n",
            "  Num examples = 1000\n",
            "  Batch size = 8\n",
            "Saving model checkpoint to ./transformer_model/checkpoint-1200\n",
            "Configuration saved in ./transformer_model/checkpoint-1200/config.json\n",
            "Model weights saved in ./transformer_model/checkpoint-1200/pytorch_model.bin\n",
            "***** Running Evaluation *****\n",
            "  Num examples = 1000\n",
            "  Batch size = 8\n",
            "***** Running Evaluation *****\n",
            "  Num examples = 1000\n",
            "  Batch size = 8\n",
            "***** Running Evaluation *****\n",
            "  Num examples = 1000\n",
            "  Batch size = 8\n",
            "Saving model checkpoint to ./transformer_model/checkpoint-1800\n",
            "Configuration saved in ./transformer_model/checkpoint-1800/config.json\n",
            "Model weights saved in ./transformer_model/checkpoint-1800/pytorch_model.bin\n",
            "***** Running Evaluation *****\n",
            "  Num examples = 1000\n",
            "  Batch size = 8\n",
            "***** Running Evaluation *****\n",
            "  Num examples = 1000\n",
            "  Batch size = 8\n",
            "***** Running Evaluation *****\n",
            "  Num examples = 1000\n",
            "  Batch size = 8\n",
            "Saving model checkpoint to ./transformer_model/checkpoint-2400\n",
            "Configuration saved in ./transformer_model/checkpoint-2400/config.json\n",
            "Model weights saved in ./transformer_model/checkpoint-2400/pytorch_model.bin\n",
            "***** Running Evaluation *****\n",
            "  Num examples = 1000\n",
            "  Batch size = 8\n",
            "***** Running Evaluation *****\n",
            "  Num examples = 1000\n",
            "  Batch size = 8\n",
            "***** Running Evaluation *****\n",
            "  Num examples = 1000\n",
            "  Batch size = 8\n",
            "Saving model checkpoint to ./transformer_model/checkpoint-3000\n",
            "Configuration saved in ./transformer_model/checkpoint-3000/config.json\n",
            "Model weights saved in ./transformer_model/checkpoint-3000/pytorch_model.bin\n",
            "\n",
            "\n",
            "Training completed. Do not forget to share your model on huggingface.co/models =)\n",
            "\n",
            "\n",
            "Loading best model from ./transformer_model/checkpoint-600 (score: 0.35274389386177063).\n"
          ]
        },
        {
          "output_type": "execute_result",
          "data": {
            "text/plain": [
              "TrainOutput(global_step=3140, training_loss=0.06957544116837204, metrics={'train_runtime': 3210.8067, 'train_samples_per_second': 31.273, 'train_steps_per_second': 0.978, 'total_flos': 4385963653983000.0, 'train_loss': 0.06957544116837204, 'epoch': 10.0})"
            ]
          },
          "metadata": {},
          "execution_count": 41
        }
      ],
      "source": [
        "trainer_1.train()"
      ]
    },
    {
      "cell_type": "code",
      "execution_count": 57,
      "metadata": {
        "colab": {
          "base_uri": "https://localhost:8080/",
          "height": 89
        },
        "id": "EM1b00x_VQlM",
        "outputId": "7a7a5572-ceb5-46d4-a503-a88b78cc9353"
      },
      "outputs": [
        {
          "output_type": "stream",
          "name": "stderr",
          "text": [
            "***** Running Prediction *****\n",
            "  Num examples = 1000\n",
            "  Batch size = 8\n"
          ]
        },
        {
          "output_type": "display_data",
          "data": {
            "text/html": [
              "\n",
              "    <div>\n",
              "      \n",
              "      <progress value='125' max='125' style='width:300px; height:20px; vertical-align: middle;'></progress>\n",
              "      [125/125 06:13]\n",
              "    </div>\n",
              "    "
            ],
            "text/plain": [
              "<IPython.core.display.HTML object>"
            ]
          },
          "metadata": {}
        }
      ],
      "source": [
        "pred_probabilities1, labels1, stats1 = trainer_1.predict(test_dataset_1)"
      ]
    },
    {
      "cell_type": "code",
      "execution_count": 58,
      "metadata": {
        "colab": {
          "base_uri": "https://localhost:8080/"
        },
        "id": "GWVWVuvs6Jw9",
        "outputId": "23bd9457-ee64-4ba7-8ec8-06240e7db077"
      },
      "outputs": [
        {
          "output_type": "execute_result",
          "data": {
            "text/plain": [
              "{'test_loss': 0.3527436852455139,\n",
              " 'test_runtime': 377.2122,\n",
              " 'test_samples_per_second': 2.651,\n",
              " 'test_steps_per_second': 0.331}"
            ]
          },
          "metadata": {},
          "execution_count": 58
        }
      ],
      "source": [
        "stats1"
      ]
    },
    {
      "cell_type": "code",
      "source": [
        "import numpy as np\n",
        "bert_pred_1 = [np.argmax(probs) for probs in pred_probabilities1]"
      ],
      "metadata": {
        "id": "zP1BeI1Znn7B"
      },
      "execution_count": 59,
      "outputs": []
    },
    {
      "cell_type": "code",
      "execution_count": 60,
      "metadata": {
        "colab": {
          "base_uri": "https://localhost:8080/"
        },
        "id": "rdBmCzOaWFzw",
        "outputId": "e8c88242-0d3c-4f04-8ee4-4199cda8f2a6"
      },
      "outputs": [
        {
          "output_type": "stream",
          "name": "stdout",
          "text": [
            "Task 1:\n",
            "Transformer - Accuracy: 0.893, F1 : 0.4216216216216216, MCC: 0.4292077133758999\n"
          ]
        }
      ],
      "source": [
        "print(f\"Task 1:\\nTransformer - \", end=\"\")\n",
        "transformer_results_1 = get_metrics(test_task_1_labels, bert_pred_1)\n",
        "print_metrics(*transformer_results_1)"
      ]
    },
    {
      "cell_type": "code",
      "source": [
        "trainer_2.train()"
      ],
      "metadata": {
        "colab": {
          "base_uri": "https://localhost:8080/",
          "height": 1000
        },
        "id": "vYgZPGPvfMQf",
        "outputId": "17d88bba-9faf-4562-e844-02ba9adfb80b"
      },
      "execution_count": null,
      "outputs": [
        {
          "output_type": "stream",
          "name": "stderr",
          "text": [
            "***** Running training *****\n",
            "  Num examples = 10041\n",
            "  Num Epochs = 10\n",
            "  Instantaneous batch size per device = 32\n",
            "  Total train batch size (w. parallel, distributed & accumulation) = 32\n",
            "  Gradient Accumulation steps = 1\n",
            "  Total optimization steps = 3140\n"
          ]
        },
        {
          "output_type": "display_data",
          "data": {
            "text/html": [
              "\n",
              "    <div>\n",
              "      \n",
              "      <progress value='3140' max='3140' style='width:300px; height:20px; vertical-align: middle;'></progress>\n",
              "      [3140/3140 53:24, Epoch 10/10]\n",
              "    </div>\n",
              "    <table border=\"1\" class=\"dataframe\">\n",
              "  <thead>\n",
              "    <tr style=\"text-align: left;\">\n",
              "      <th>Step</th>\n",
              "      <th>Training Loss</th>\n",
              "      <th>Validation Loss</th>\n",
              "    </tr>\n",
              "  </thead>\n",
              "  <tbody>\n",
              "    <tr>\n",
              "      <td>200</td>\n",
              "      <td>0.304300</td>\n",
              "      <td>0.321112</td>\n",
              "    </tr>\n",
              "    <tr>\n",
              "      <td>400</td>\n",
              "      <td>0.239800</td>\n",
              "      <td>0.425601</td>\n",
              "    </tr>\n",
              "    <tr>\n",
              "      <td>600</td>\n",
              "      <td>0.268600</td>\n",
              "      <td>0.467441</td>\n",
              "    </tr>\n",
              "    <tr>\n",
              "      <td>800</td>\n",
              "      <td>0.263300</td>\n",
              "      <td>0.343774</td>\n",
              "    </tr>\n",
              "    <tr>\n",
              "      <td>1000</td>\n",
              "      <td>0.162200</td>\n",
              "      <td>0.349761</td>\n",
              "    </tr>\n",
              "    <tr>\n",
              "      <td>1200</td>\n",
              "      <td>0.127200</td>\n",
              "      <td>0.537234</td>\n",
              "    </tr>\n",
              "    <tr>\n",
              "      <td>1400</td>\n",
              "      <td>0.087000</td>\n",
              "      <td>0.559331</td>\n",
              "    </tr>\n",
              "    <tr>\n",
              "      <td>1600</td>\n",
              "      <td>0.088600</td>\n",
              "      <td>0.633820</td>\n",
              "    </tr>\n",
              "    <tr>\n",
              "      <td>1800</td>\n",
              "      <td>0.053700</td>\n",
              "      <td>0.709125</td>\n",
              "    </tr>\n",
              "    <tr>\n",
              "      <td>2000</td>\n",
              "      <td>0.031700</td>\n",
              "      <td>0.847801</td>\n",
              "    </tr>\n",
              "    <tr>\n",
              "      <td>2200</td>\n",
              "      <td>0.025900</td>\n",
              "      <td>0.794347</td>\n",
              "    </tr>\n",
              "    <tr>\n",
              "      <td>2400</td>\n",
              "      <td>0.011400</td>\n",
              "      <td>0.841028</td>\n",
              "    </tr>\n",
              "    <tr>\n",
              "      <td>2600</td>\n",
              "      <td>0.007800</td>\n",
              "      <td>0.824213</td>\n",
              "    </tr>\n",
              "    <tr>\n",
              "      <td>2800</td>\n",
              "      <td>0.008900</td>\n",
              "      <td>0.888164</td>\n",
              "    </tr>\n",
              "    <tr>\n",
              "      <td>3000</td>\n",
              "      <td>0.005000</td>\n",
              "      <td>0.881389</td>\n",
              "    </tr>\n",
              "  </tbody>\n",
              "</table><p>"
            ],
            "text/plain": [
              "<IPython.core.display.HTML object>"
            ]
          },
          "metadata": {}
        },
        {
          "output_type": "stream",
          "name": "stderr",
          "text": [
            "***** Running Evaluation *****\n",
            "  Num examples = 1000\n",
            "  Batch size = 8\n",
            "***** Running Evaluation *****\n",
            "  Num examples = 1000\n",
            "  Batch size = 8\n",
            "***** Running Evaluation *****\n",
            "  Num examples = 1000\n",
            "  Batch size = 8\n",
            "Saving model checkpoint to ./transformer_model/checkpoint-600\n",
            "Configuration saved in ./transformer_model/checkpoint-600/config.json\n",
            "Model weights saved in ./transformer_model/checkpoint-600/pytorch_model.bin\n",
            "***** Running Evaluation *****\n",
            "  Num examples = 1000\n",
            "  Batch size = 8\n",
            "***** Running Evaluation *****\n",
            "  Num examples = 1000\n",
            "  Batch size = 8\n",
            "***** Running Evaluation *****\n",
            "  Num examples = 1000\n",
            "  Batch size = 8\n",
            "Saving model checkpoint to ./transformer_model/checkpoint-1200\n",
            "Configuration saved in ./transformer_model/checkpoint-1200/config.json\n",
            "Model weights saved in ./transformer_model/checkpoint-1200/pytorch_model.bin\n",
            "***** Running Evaluation *****\n",
            "  Num examples = 1000\n",
            "  Batch size = 8\n",
            "***** Running Evaluation *****\n",
            "  Num examples = 1000\n",
            "  Batch size = 8\n",
            "***** Running Evaluation *****\n",
            "  Num examples = 1000\n",
            "  Batch size = 8\n",
            "Saving model checkpoint to ./transformer_model/checkpoint-1800\n",
            "Configuration saved in ./transformer_model/checkpoint-1800/config.json\n",
            "Model weights saved in ./transformer_model/checkpoint-1800/pytorch_model.bin\n",
            "***** Running Evaluation *****\n",
            "  Num examples = 1000\n",
            "  Batch size = 8\n",
            "***** Running Evaluation *****\n",
            "  Num examples = 1000\n",
            "  Batch size = 8\n",
            "***** Running Evaluation *****\n",
            "  Num examples = 1000\n",
            "  Batch size = 8\n",
            "Saving model checkpoint to ./transformer_model/checkpoint-2400\n",
            "Configuration saved in ./transformer_model/checkpoint-2400/config.json\n",
            "Model weights saved in ./transformer_model/checkpoint-2400/pytorch_model.bin\n",
            "***** Running Evaluation *****\n",
            "  Num examples = 1000\n",
            "  Batch size = 8\n",
            "***** Running Evaluation *****\n",
            "  Num examples = 1000\n",
            "  Batch size = 8\n",
            "***** Running Evaluation *****\n",
            "  Num examples = 1000\n",
            "  Batch size = 8\n",
            "Saving model checkpoint to ./transformer_model/checkpoint-3000\n",
            "Configuration saved in ./transformer_model/checkpoint-3000/config.json\n",
            "Model weights saved in ./transformer_model/checkpoint-3000/pytorch_model.bin\n",
            "\n",
            "\n",
            "Training completed. Do not forget to share your model on huggingface.co/models =)\n",
            "\n",
            "\n",
            "Loading best model from ./transformer_model/checkpoint-600 (score: 0.46744126081466675).\n"
          ]
        },
        {
          "output_type": "execute_result",
          "data": {
            "text/plain": [
              "TrainOutput(global_step=3140, training_loss=0.10762088830303994, metrics={'train_runtime': 3205.4761, 'train_samples_per_second': 31.325, 'train_steps_per_second': 0.98, 'total_flos': 4386003033780900.0, 'train_loss': 0.10762088830303994, 'epoch': 10.0})"
            ]
          },
          "metadata": {},
          "execution_count": 53
        }
      ]
    },
    {
      "cell_type": "code",
      "source": [
        "pred_probabilities2, labels2, stats2 = trainer_2.predict(test_dataset_2)"
      ],
      "metadata": {
        "colab": {
          "base_uri": "https://localhost:8080/",
          "height": 89
        },
        "id": "nsWlxK-ofMeS",
        "outputId": "3d87f2e9-b0c4-4325-d8ee-9d80d9b2bda8"
      },
      "execution_count": 61,
      "outputs": [
        {
          "output_type": "stream",
          "name": "stderr",
          "text": [
            "***** Running Prediction *****\n",
            "  Num examples = 1000\n",
            "  Batch size = 8\n"
          ]
        },
        {
          "output_type": "display_data",
          "data": {
            "text/html": [
              "\n",
              "    <div>\n",
              "      \n",
              "      <progress value='125' max='125' style='width:300px; height:20px; vertical-align: middle;'></progress>\n",
              "      [125/125 06:16]\n",
              "    </div>\n",
              "    "
            ],
            "text/plain": [
              "<IPython.core.display.HTML object>"
            ]
          },
          "metadata": {}
        }
      ]
    },
    {
      "cell_type": "code",
      "source": [
        "stats2"
      ],
      "metadata": {
        "colab": {
          "base_uri": "https://localhost:8080/"
        },
        "id": "IlPmqf-IpTHb",
        "outputId": "dafa1177-dce9-44c2-af58-2856c536e7da"
      },
      "execution_count": 62,
      "outputs": [
        {
          "output_type": "execute_result",
          "data": {
            "text/plain": [
              "{'test_loss': 0.46744129061698914,\n",
              " 'test_runtime': 379.4222,\n",
              " 'test_samples_per_second': 2.636,\n",
              " 'test_steps_per_second': 0.329}"
            ]
          },
          "metadata": {},
          "execution_count": 62
        }
      ]
    },
    {
      "cell_type": "code",
      "source": [
        "bert_pred_2 = [np.argmax(probs) for probs in pred_probabilities2]"
      ],
      "metadata": {
        "id": "EGLtEpY8pTM-"
      },
      "execution_count": 63,
      "outputs": []
    },
    {
      "cell_type": "code",
      "source": [
        "print(f\"Task 2:\\nTransformer - \", end=\"\")\n",
        "transformer_results_2 = get_metrics(test_task_2_labels, bert_pred_2, ['micro', 'macro'])\n",
        "print_metrics(*transformer_results_2, ['micro', 'macro'])"
      ],
      "metadata": {
        "colab": {
          "base_uri": "https://localhost:8080/"
        },
        "id": "YdLuducNpTSn",
        "outputId": "8695b474-483c-4e81-974b-0b4cdce38674"
      },
      "execution_count": 64,
      "outputs": [
        {
          "output_type": "stream",
          "name": "stdout",
          "text": [
            "Task 2:\n",
            "Transformer - Accuracy: 0.866, F1 micro: 0.866, F1 macro: 0.3093962129331904, MCC: 0.0\n"
          ]
        }
      ]
    },
    {
      "cell_type": "code",
      "source": [
        "bert_task1.save_pretrained(\"./transformer_model_task1/\")"
      ],
      "metadata": {
        "colab": {
          "base_uri": "https://localhost:8080/"
        },
        "id": "z62Pck0XplUO",
        "outputId": "45a115ca-a306-4fcd-f838-b6607dfe0173"
      },
      "execution_count": null,
      "outputs": [
        {
          "output_type": "stream",
          "name": "stderr",
          "text": [
            "Configuration saved in ./transformer_model_task1/config.json\n",
            "Model weights saved in ./transformer_model_task1/pytorch_model.bin\n"
          ]
        }
      ]
    },
    {
      "cell_type": "code",
      "source": [
        "bert_task2.save_pretrained(\"./transformer_model_task2/\")"
      ],
      "metadata": {
        "colab": {
          "base_uri": "https://localhost:8080/"
        },
        "id": "YiZneC33plXw",
        "outputId": "f41ca579-973e-4cdd-90a2-5ea25850a420"
      },
      "execution_count": null,
      "outputs": [
        {
          "output_type": "stream",
          "name": "stderr",
          "text": [
            "Configuration saved in ./transformer_model_task2/config.json\n",
            "Model weights saved in ./transformer_model_task2/pytorch_model.bin\n"
          ]
        }
      ]
    },
    {
      "cell_type": "code",
      "source": [
        "!cp -R ./transformer_model_task1/ /content/drive/MyDrive/Colab\\ Notebooks/transformer_models/transformer_model_task1/"
      ],
      "metadata": {
        "id": "ZS09JFi8plad"
      },
      "execution_count": null,
      "outputs": []
    },
    {
      "cell_type": "code",
      "source": [
        "!cp -R ./transformer_model_task2/ /content/drive/MyDrive/Colab\\ Notebooks/transformer_models/transformer_model_task2/"
      ],
      "metadata": {
        "id": "Qc6HMTLnqRLz"
      },
      "execution_count": null,
      "outputs": []
    },
    {
      "cell_type": "code",
      "source": [
        "from tabulate import tabulate\n",
        "\n",
        "def flatten(list_of_lists):\n",
        "    if len(list_of_lists) == 0:\n",
        "        return list_of_lists\n",
        "    if isinstance(list_of_lists[0], list):\n",
        "        return flatten(list_of_lists[0]) + flatten(list_of_lists[1:])\n",
        "    return list_of_lists[:1] + flatten(list_of_lists[1:])\n",
        "\n",
        "print(\"Task 1:\")\n",
        "print(tabulate([[\"Naive Bayes\"] + flatten(list(bayes_results_1)), \n",
        "                [\"Fasttext\"] + flatten(list(fasttext_results_1)), \n",
        "                [\"Transformer\"] + flatten(list(transformer_results_1))], \n",
        "               headers=['Model name', 'Accuracy', 'F1', 'MCC']))\n",
        "print(\"\")\n",
        "print(\"Task 2:\")\n",
        "print(tabulate([[\"Naive Bayes\"] + flatten(list(bayes_results_2)), \n",
        "                [\"Fasttext\"] + flatten(list(fasttext_results_2)), \n",
        "                [\"Transformer\"] + flatten(list(transformer_results_2))], \n",
        "               headers=['Model name', 'Accuracy', 'F1 micro', 'F1 macro', 'MCC']))\n"
      ],
      "metadata": {
        "colab": {
          "base_uri": "https://localhost:8080/"
        },
        "id": "VuAEmm8PEZEA",
        "outputId": "540337fa-88ae-4035-a3c1-d4be84ade1a9"
      },
      "execution_count": 65,
      "outputs": [
        {
          "output_type": "stream",
          "name": "stdout",
          "text": [
            "Task 1:\n",
            "Model name      Accuracy        F1       MCC\n",
            "------------  ----------  --------  --------\n",
            "Naive Bayes        0.866  0         0\n",
            "Fasttext           0.871  0.198758  0.224254\n",
            "Transformer        0.893  0.421622  0.429208\n",
            "\n",
            "Task 2:\n",
            "Model name      Accuracy    F1 micro    F1 macro        MCC\n",
            "------------  ----------  ----------  ----------  ---------\n",
            "Naive Bayes        0.866       0.866    0.309396  0\n",
            "Fasttext           0.864       0.864    0.329033  0.0934671\n",
            "Transformer        0.866       0.866    0.309396  0\n"
          ]
        }
      ]
    },
    {
      "cell_type": "markdown",
      "source": [
        "### Lime"
      ],
      "metadata": {
        "id": "GNXzZrLiEWFE"
      }
    },
    {
      "cell_type": "code",
      "source": [
        "!pip install lime"
      ],
      "metadata": {
        "id": "dI7t0If-ER-s"
      },
      "execution_count": null,
      "outputs": []
    },
    {
      "cell_type": "code",
      "source": [
        "TP_idx = list(zip(bert_pred_1, test_task_1_labels)).index((1, 1))\n",
        "TN_idx = list(zip(bert_pred_1, test_task_1_labels)).index((0, 0))\n",
        "FP_idx = list(zip(bert_pred_1, test_task_1_labels)).index((1, 0))\n",
        "FN_idx = list(zip(bert_pred_1, test_task_1_labels)).index((0, 1))"
      ],
      "metadata": {
        "id": "2KAfW6yCZsDr"
      },
      "execution_count": 67,
      "outputs": []
    },
    {
      "cell_type": "code",
      "source": [
        "import lime\n",
        "from lime.lime_text import LimeTextExplainer\n",
        "\n",
        "explainer = LimeTextExplainer(class_names=[\"Non-harmful\", \"Harmful\"])"
      ],
      "metadata": {
        "id": "cB59w1Y62HzC"
      },
      "execution_count": 73,
      "outputs": []
    },
    {
      "cell_type": "code",
      "source": [
        "def getTransformerPredict(texts, trainer=trainer_1):\n",
        "  tokens = tokenizer(texts, truncation=True, padding=True, max_length=max_length)\n",
        "  res = trainer.predict(CustomTextDataset(tokens, [0]*len(texts)))\n",
        "  return res[0]"
      ],
      "metadata": {
        "id": "UhGV56Ggeg1L"
      },
      "execution_count": 80,
      "outputs": []
    },
    {
      "cell_type": "code",
      "source": [
        "def getNaiveBayesPredict(texts, NB=NB_task1):\n",
        "  docs = [nlp(text) for text in texts]\n",
        "  cleaned_texts = [\" \".join([token.lemma_ for token in doc if token.lemma_.isalpha() and not token.lemma_ in stopwords]) for doc in docs]\n",
        "  vectorized = vectorizer.transform(cleaned_texts)\n",
        "  pred = NB.predict_proba(vectorized)\n",
        "  return pred"
      ],
      "metadata": {
        "id": "a2kb6el1nAQK"
      },
      "execution_count": 81,
      "outputs": []
    },
    {
      "cell_type": "code",
      "source": [
        "def getFasttextPredict(texts, model=model_task1):\n",
        "  probs = [(int(model_task1.predict(text)[0][0][-1]), model_task1.predict(text)[1][0]) for text in texts]\n",
        "  return np.array([[prob, 1-prob] if index == 0 else [1-prob, prob] for index, prob in probs])"
      ],
      "metadata": {
        "id": "83Zkc7qV6aYh"
      },
      "execution_count": 91,
      "outputs": []
    },
    {
      "cell_type": "code",
      "source": [
        "def explain_instance_for_models(idx, classifier_funcs, num_features=6):\n",
        "  return [explainer.explain_instance(test_set_text[idx], \n",
        "                                     classifier_func, \n",
        "                                     num_features=num_features) for classifier_func in classifier_funcs]"
      ],
      "metadata": {
        "id": "mnHOvpIBINuK"
      },
      "execution_count": 83,
      "outputs": []
    },
    {
      "cell_type": "code",
      "source": [
        "TP_NB_exp, TP_FT_exp, TP_T_exp = explain_instance_for_models(TP_idx, [getNaiveBayesPredict, getFasttextPredict, getTransformerPredict])"
      ],
      "metadata": {
        "colab": {
          "base_uri": "https://localhost:8080/",
          "height": 89
        },
        "id": "kM8wiabY8hCF",
        "outputId": "0c314836-e0e5-4cf9-c0ca-a16f92ad6632"
      },
      "execution_count": 96,
      "outputs": [
        {
          "output_type": "stream",
          "name": "stderr",
          "text": [
            "***** Running Prediction *****\n",
            "  Num examples = 5000\n",
            "  Batch size = 8\n"
          ]
        },
        {
          "output_type": "display_data",
          "data": {
            "text/html": [
              "\n",
              "    <div>\n",
              "      \n",
              "      <progress value='753' max='125' style='width:300px; height:20px; vertical-align: middle;'></progress>\n",
              "      [125/125 40:46]\n",
              "    </div>\n",
              "    "
            ],
            "text/plain": [
              "<IPython.core.display.HTML object>"
            ]
          },
          "metadata": {}
        }
      ]
    },
    {
      "cell_type": "code",
      "source": [
        "TN_NB_exp, TN_FT_exp, TN_T_exp = explain_instance_for_models(TN_idx, [getNaiveBayesPredict, getFasttextPredict, getTransformerPredict])"
      ],
      "metadata": {
        "colab": {
          "base_uri": "https://localhost:8080/",
          "height": 89
        },
        "id": "QCYEVAs-Kl7S",
        "outputId": "6c242621-cf6f-4a4c-a5a8-d2c1eb823cb3"
      },
      "execution_count": 164,
      "outputs": [
        {
          "output_type": "stream",
          "name": "stderr",
          "text": [
            "***** Running Prediction *****\n",
            "  Num examples = 5000\n",
            "  Batch size = 8\n"
          ]
        },
        {
          "output_type": "display_data",
          "data": {
            "text/html": [
              "\n",
              "    <div>\n",
              "      \n",
              "      <progress value='1378' max='125' style='width:300px; height:20px; vertical-align: middle;'></progress>\n",
              "      [125/125 1:37:45]\n",
              "    </div>\n",
              "    "
            ],
            "text/plain": [
              "<IPython.core.display.HTML object>"
            ]
          },
          "metadata": {}
        }
      ]
    },
    {
      "cell_type": "code",
      "source": [
        "FP_NB_exp, FP_FT_exp, FP_T_exp = explain_instance_for_models(FP_idx, [getNaiveBayesPredict, getFasttextPredict, getTransformerPredict])"
      ],
      "metadata": {
        "colab": {
          "base_uri": "https://localhost:8080/",
          "height": 89
        },
        "id": "iM8XkSLyKl-W",
        "outputId": "cd959d89-32a3-4438-af1b-3e4b32e4c737"
      },
      "execution_count": 165,
      "outputs": [
        {
          "output_type": "stream",
          "name": "stderr",
          "text": [
            "***** Running Prediction *****\n",
            "  Num examples = 5000\n",
            "  Batch size = 8\n"
          ]
        },
        {
          "output_type": "display_data",
          "data": {
            "text/html": [
              "\n",
              "    <div>\n",
              "      \n",
              "      <progress value='2003' max='125' style='width:300px; height:20px; vertical-align: middle;'></progress>\n",
              "      [125/125 1:48:12]\n",
              "    </div>\n",
              "    "
            ],
            "text/plain": [
              "<IPython.core.display.HTML object>"
            ]
          },
          "metadata": {}
        }
      ]
    },
    {
      "cell_type": "code",
      "source": [
        "FN_NB_exp, FN_FT_exp, FN_T_exp = explain_instance_for_models(FN_idx, [getNaiveBayesPredict, getFasttextPredict, getTransformerPredict])"
      ],
      "metadata": {
        "colab": {
          "base_uri": "https://localhost:8080/",
          "height": 89
        },
        "id": "bjUP4RIrKmQ5",
        "outputId": "5905bafd-0518-4586-e986-10413c2abe41"
      },
      "execution_count": 166,
      "outputs": [
        {
          "output_type": "stream",
          "name": "stderr",
          "text": [
            "***** Running Prediction *****\n",
            "  Num examples = 5000\n",
            "  Batch size = 8\n"
          ]
        },
        {
          "output_type": "display_data",
          "data": {
            "text/html": [
              "\n",
              "    <div>\n",
              "      \n",
              "      <progress value='2628' max='125' style='width:300px; height:20px; vertical-align: middle;'></progress>\n",
              "      [125/125 1:52:14]\n",
              "    </div>\n",
              "    "
            ],
            "text/plain": [
              "<IPython.core.display.HTML object>"
            ]
          },
          "metadata": {}
        }
      ]
    },
    {
      "cell_type": "code",
      "source": [
        "print(\"True Positive:\")\n",
        "print(test_set_text[TP_idx])\n",
        "print(tabulate([[*items] for items in zip(TP_NB_exp.as_list(), TP_FT_exp.as_list(), TP_T_exp.as_list())], \n",
        "               headers=['Naive Bayes', 'Fasttext', 'Transformer']))"
      ],
      "metadata": {
        "colab": {
          "base_uri": "https://localhost:8080/"
        },
        "id": "OE89AGRcAKuD",
        "outputId": "4c2972c5-7e53-4c14-ac5d-61db092d489c"
      },
      "execution_count": 103,
      "outputs": [
        {
          "output_type": "stream",
          "name": "stdout",
          "text": [
            "True Positive:\n",
            "Pluli na kobiet, ciagali, dzicz chora z nienawisci, cywilacja jest zakaz dziczy\n",
            "Naive Bayes                       Fasttext                              Transformer\n",
            "--------------------------------  ------------------------------------  -----------------------------------\n",
            "('zakaz', -0.04107549803718047)   ('nienawisci', -0.12137136898943435)  ('Pluli', 0.6309495100843032)\n",
            "('dziczy', 0.017276606937049292)  ('ciagali', -0.1208798214731349)      ('chora', 0.5821420631165107)\n",
            "('kobiet', 0.005727773963561342)  ('kobiet', -0.049952882683270236)     ('dzicz', 0.47703518884655083)\n",
            "('dzicz', 0.004139422068867261)   ('na', -0.03883571181008632)          ('kobiet', 0.42477516648254404)\n",
            "('chora', 0.002981197391789598)   ('dziczy', 0.02562461098177573)       ('nienawisci', 0.32821279154459937)\n",
            "('na', -0.00016991971268639277)   ('z', -0.02068290380738564)           ('dziczy', 0.21033427490517304)\n"
          ]
        }
      ]
    },
    {
      "cell_type": "code",
      "source": [
        "print(\"True Negative:\")\n",
        "print(test_set_text[TN_idx])\n",
        "print(tabulate([[*items] for items in zip(TN_NB_exp.as_list(), TN_FT_exp.as_list(), TN_T_exp.as_list())], \n",
        "               headers=['Naive Bayes', 'Fasttext', 'Transformer']))"
      ],
      "metadata": {
        "colab": {
          "base_uri": "https://localhost:8080/"
        },
        "id": "oAoPzMO1K14s",
        "outputId": "e799e7c5-e0ba-46ba-f3b5-f0e9debdd0f7"
      },
      "execution_count": 167,
      "outputs": [
        {
          "output_type": "stream",
          "name": "stdout",
          "text": [
            "True Negative:\n",
            "Spoko, jak im Duda z Morawieckim zamówią po pięć piw to wszystko będzie ok.\n",
            "Naive Bayes                            Fasttext                           Transformer\n",
            "-------------------------------------  ---------------------------------  ------------------------------------\n",
            "('ok', -0.02216499105991599)           ('będzie', -0.19841552107541036)   ('Duda', 0.9798964567464519)\n",
            "('Spoko', -0.014286637280109453)       ('Duda', 0.16364041232345247)      ('Morawieckim', 0.43312369623477576)\n",
            "('pięć', -0.007438871506646048)        ('wszystko', 0.11260292262834071)  ('Spoko', -0.41580901313101915)\n",
            "('Morawieckim', 0.006941908140739546)  ('im', 0.10481933946870536)        ('im', 0.41225663051961575)\n",
            "('piw', -0.006812042103404985)         ('Spoko', -0.10472895784549624)    ('ok', -0.3424102021126453)\n",
            "('zamówią', 0.0033244923491843647)     ('ok', -0.06773275487257933)       ('zamówią', -0.3406465110070741)\n"
          ]
        }
      ]
    },
    {
      "cell_type": "code",
      "source": [
        "print(\"False Positive:\")\n",
        "print(test_set_text[FP_idx])\n",
        "print(tabulate([[*items] for items in zip(FP_NB_exp.as_list(), FP_FT_exp.as_list(), FP_T_exp.as_list())], \n",
        "               headers=['Naive Bayes', 'Fasttext', 'Transformer']))"
      ],
      "metadata": {
        "colab": {
          "base_uri": "https://localhost:8080/"
        },
        "id": "9SNAGniPK184",
        "outputId": "71762715-8c98-46a1-994b-092761624d53"
      },
      "execution_count": 168,
      "outputs": [
        {
          "output_type": "stream",
          "name": "stdout",
          "text": [
            "False Positive:\n",
            "No czy Prezes nie miał racji, mówiąc,ze to są zdradzieckie mordy? No czy nie miał racji?😁😁\n",
            "Naive Bayes                             Fasttext                          Transformer\n",
            "--------------------------------------  --------------------------------  ------------------------------------\n",
            "('miał', -0.015976139584223104)         ('mordy', 0.02440650432848053)    ('mordy', 2.7542646818490573)\n",
            "('racji', -0.010552461833066577)        ('racji', -0.023059534897006358)  ('zdradzieckie', 1.0058429476782418)\n",
            "('mówiąc', -0.010396575998084726)       ('No', -0.020303322727347903)     ('to', 0.09739160496110293)\n",
            "('Prezes', -0.008054799182004184)       ('ze', -0.01449778353487601)      ('nie', 0.06663064436803273)\n",
            "('mordy', 0.005189161512354974)         ('miał', -0.014006503492673076)   ('No', 0.056546020539018985)\n",
            "('zdradzieckie', 0.002697913421538292)  ('nie', 0.013447641460207651)     ('ze', -0.054657039422832475)\n"
          ]
        }
      ]
    },
    {
      "cell_type": "code",
      "source": [
        "print(\"False Negative:\")\n",
        "print(test_set_text[FN_idx])\n",
        "print(tabulate([[*items] for items in zip(FN_NB_exp.as_list(), FN_FT_exp.as_list(), FN_T_exp.as_list())], \n",
        "               headers=['Naive Bayes', 'Fasttext', 'Transformer']))"
      ],
      "metadata": {
        "colab": {
          "base_uri": "https://localhost:8080/"
        },
        "id": "gHbWtD91K2BE",
        "outputId": "959c3d33-44c6-42c1-cd64-8d1593078a79"
      },
      "execution_count": 169,
      "outputs": [
        {
          "output_type": "stream",
          "name": "stdout",
          "text": [
            "False Negative:\n",
            "Tej szmaty się nie komentuje\n",
            "Naive Bayes                         Fasttext                               Transformer\n",
            "----------------------------------  -------------------------------------  -----------------------------------\n",
            "('szmaty', 0.08672398846642425)     ('szmaty', 0.02002864940751425)        ('się', -0.2888003005761048)\n",
            "('komentuje', -0.0757745511241951)  ('nie', 0.017073807329943163)          ('szmaty', 0.21051513756171047)\n",
            "('nie', 0.003355986349881543)       ('Tej', 0.012719949922457983)          ('nie', -0.11262536426716166)\n",
            "('się', 0.0031592873914388993)      ('się', -0.005142605231604949)         ('komentuje', -0.10082491081538977)\n",
            "('Tej', 0.0024517248405343584)      ('komentuje', -0.0003367357113652666)  ('Tej', -0.06697947688845668)\n"
          ]
        }
      ]
    },
    {
      "cell_type": "code",
      "source": [
        "import matplotlib\n",
        "import matplotlib.pyplot as plt\n",
        "\n",
        "def plot_exp(model_name, exp, fig, axs, plot_pos, label=1):\n",
        "  exp_list = exp.as_list()\n",
        "  #fig, axs = plt.figure(figsize=figsize)\n",
        "  vals = [x[1] for x in exp_list]\n",
        "  names = [x[0] for x in exp_list]\n",
        "  vals.reverse()\n",
        "  names.reverse()\n",
        "  colors = ['green' if x > 0 else 'red' for x in vals]\n",
        "  pos = np.arange(len(exp_list)) + .5\n",
        "  axs[plot_pos].barh(pos, vals, align='center', color=colors)\n",
        "  plt.sca(axs[plot_pos])\n",
        "  plt.yticks(pos, names)\n",
        "  if exp.mode == \"classification\":\n",
        "      title = 'Local explanation for class %s' % exp.class_names[label]\n",
        "  else:\n",
        "      title = 'Local explanation'\n",
        "  axs[plot_pos].set_title(model_name + \"\\n\" + title)\n",
        "\n",
        "plt.rcParams['figure.figsize'] = [22, 8]"
      ],
      "metadata": {
        "id": "zUVBmm4BpO-a"
      },
      "execution_count": 173,
      "outputs": []
    },
    {
      "cell_type": "code",
      "source": [
        "#fig_NB = TP_NB_exp.as_pyplot_figure().suptitle(\"Naive Bayes\")\n",
        "#fig_FT = TP_FT_exp.as_pyplot_figure().suptitle(\"Fasttext\")\n",
        "#fig_T = TP_T_exp.as_pyplot_figure().suptitle(\"Transformer\")"
      ],
      "metadata": {
        "id": "uuUhep4AKecq"
      },
      "execution_count": null,
      "outputs": []
    },
    {
      "cell_type": "code",
      "source": [
        "fig, axs = plt.subplots(1, 3)\n",
        "fig.suptitle(\"True Positive\", fontsize=20)\n",
        "plot_exp(\"Naive Bayes\", TP_NB_exp, fig, axs, 0)\n",
        "plot_exp(\"Fasttext\", TP_FT_exp, fig, axs, 1)\n",
        "plot_exp(\"Transformer\", TP_T_exp, fig, axs, 2)"
      ],
      "metadata": {
        "colab": {
          "base_uri": "https://localhost:8080/",
          "height": 540
        },
        "id": "iiXJzaxYKaq1",
        "outputId": "c4479d99-58fb-41b6-ae30-dffb27b424a9"
      },
      "execution_count": 174,
      "outputs": [
        {
          "output_type": "display_data",
          "data": {
            "image/png": "[encoded data removed]",
            "text/plain": [
              "<Figure size 1584x576 with 3 Axes>"
            ]
          },
          "metadata": {
            "needs_background": "light"
          }
        }
      ]
    },
    {
      "cell_type": "code",
      "source": [
        "fig, axs = plt.subplots(1, 3)\n",
        "fig.suptitle(\"True Negative\", fontsize=20)\n",
        "plot_exp(\"Naive Bayes\", TN_NB_exp, fig, axs, 0)\n",
        "plot_exp(\"Fasttext\", TN_FT_exp, fig, axs, 1)\n",
        "plot_exp(\"Transformer\", TN_T_exp, fig, axs, 2)"
      ],
      "metadata": {
        "colab": {
          "base_uri": "https://localhost:8080/",
          "height": 540
        },
        "id": "s6yss3vZLPxw",
        "outputId": "8b7b237e-9b63-4c77-f558-2f560adec7e5"
      },
      "execution_count": 175,
      "outputs": [
        {
          "output_type": "display_data",
          "data": {
            "image/png": "[encoded data removed]",
            "text/plain": [
              "<Figure size 1584x576 with 3 Axes>"
            ]
          },
          "metadata": {
            "needs_background": "light"
          }
        }
      ]
    },
    {
      "cell_type": "code",
      "source": [
        "fig, axs = plt.subplots(1, 3)\n",
        "fig.suptitle(\"False Positive\", fontsize=20)\n",
        "plot_exp(\"Naive Bayes\", FP_NB_exp, fig, axs, 0)\n",
        "plot_exp(\"Fasttext\", FP_FT_exp, fig, axs, 1)\n",
        "plot_exp(\"Transformer\", FP_T_exp, fig, axs, 2)"
      ],
      "metadata": {
        "colab": {
          "base_uri": "https://localhost:8080/",
          "height": 540
        },
        "id": "evpoOlfDLP8D",
        "outputId": "7ec3edec-9eab-4375-c439-ef537d7e7239"
      },
      "execution_count": 176,
      "outputs": [
        {
          "output_type": "display_data",
          "data": {
            "image/png": "[encoded data removed]",
            "text/plain": [
              "<Figure size 1584x576 with 3 Axes>"
            ]
          },
          "metadata": {
            "needs_background": "light"
          }
        }
      ]
    },
    {
      "cell_type": "code",
      "source": [
        "fig, axs = plt.subplots(1, 3)\n",
        "fig.suptitle(\"False Negative\", fontsize=20)\n",
        "plot_exp(\"Naive Bayes\", FN_NB_exp, fig, axs, 0)\n",
        "plot_exp(\"Fasttext\", FN_FT_exp, fig, axs, 1)\n",
        "plot_exp(\"Transformer\", FN_T_exp, fig, axs, 2)"
      ],
      "metadata": {
        "colab": {
          "base_uri": "https://localhost:8080/",
          "height": 540
        },
        "id": "VBNi3o7hLQFS",
        "outputId": "cfe2e004-f00f-4261-8c61-0525183996b4"
      },
      "execution_count": 177,
      "outputs": [
        {
          "output_type": "display_data",
          "data": {
            "image/png": "[encoded data removed]",
            "text/plain": [
              "<Figure size 1584x576 with 3 Axes>"
            ]
          },
          "metadata": {
            "needs_background": "light"
          }
        }
      ]
    },
    {
      "cell_type": "markdown",
      "source": [
        "### Odpowiedzi na pytania"
      ],
      "metadata": {
        "id": "X5UW-wUBL7WV"
      }
    },
    {
      "cell_type": "markdown",
      "source": [
        "**Which of the classifiers works the best for the task 1 and the task 2.** <br>\n",
        "Dla obu zadań najlepsze wyniki dał model Transformer, ale wszystkie modele dały zbliżone wyniki.\n",
        "\n",
        "**Did you achieve results comparable with the results of PolEval Task?** <br>\n",
        "Wyniki otrzymane były nieco gorsze niż w PolEval Task, głównie różnią się wyniki dla miary F1.\n",
        "\n",
        "**Did you achieve results comparable with the Klej leaderboard?** <br>\n",
        "Uzyskałem podobny wynik do modelu PolBERTa (nawet troszkę lepszy), ale znacznie gorszy od najlepszych modeli w tabeli.\n",
        "\n",
        "**Describe strengths and weaknesses of each of the compared algorithms.** <br>\n",
        "Klasyfikator Bayesa jest relatywnie prostym i szybkim algorytmem dającym zaskakująco dobre wyniki.\n",
        "Biblioteka fasttext jest prosta w użyciu i daje całkiem niezłe wyniki.\n",
        "Transformer jest najwolniejszy z modeli, ale daje najlepsze wyniki, prawdopodobnie przy większej ilości danych do uczenia dawałby je jeszcze lepsze.\n",
        "\n",
        "**Do you think comparison of raw performance values on a single task is enough to assess the value of a given algorithm/model?** <br>\n",
        "Nie, gdyż każde zadanie trochę się od siebie różni i dopiero po przetestowaniu na większej ilości możemy zobaczyć ogólny performance modelu.\n",
        "\n",
        "**Did SHAP show that the models use valuable features/words when performing their decision?** <br>\n",
        "Tak SHAP pokazał słowa które najbardziej wpływały na decyzje modelu, w większości przypadków, słowa i ich wpływ na wynik były sensowne.\n",
        "\n"
      ],
      "metadata": {
        "id": "0WDwIwC1Lqgl"
      }
    }
  ],
  "metadata": {
    "accelerator": "GPU",
    "colab": {
      "collapsed_sections": [],
      "name": "lab7_TextClassification_Michał_Warzecha.ipynb",
      "provenance": []
    },
    "kernelspec": {
      "display_name": "Python 3",
      "name": "python3"
    },
    "language_info": {
      "name": "python"
    }
  },
  "nbformat": 4,
  "nbformat_minor": 0
}
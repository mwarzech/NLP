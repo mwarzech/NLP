{
 "cells": [
  {
   "cell_type": "code",
   "execution_count": 2,
   "metadata": {},
   "outputs": [],
   "source": [
    "from os import listdir\n",
    "from os.path import isfile, join\n",
    "\n",
    "mypath = '../Lab1/ustawy/'\n",
    "ustawy = [f for f in listdir(mypath) if isfile(join(mypath, f))]"
   ]
  },
  {
   "cell_type": "code",
   "execution_count": 4,
   "metadata": {},
   "outputs": [],
   "source": [
    "from elasticsearch import Elasticsearch\n",
    "\n",
    "es = Elasticsearch(['http://localhost:9200/'], verify_certs=True, timeout=30)"
   ]
  },
  {
   "cell_type": "code",
   "execution_count": 5,
   "metadata": {},
   "outputs": [
    {
     "data": {
      "text/plain": [
       "True"
      ]
     },
     "execution_count": 5,
     "metadata": {},
     "output_type": "execute_result"
    }
   ],
   "source": [
    "es.ping()"
   ]
  },
  {
   "cell_type": "markdown",
   "metadata": {},
   "source": [
    "# Zad 3"
   ]
  },
  {
   "cell_type": "code",
   "execution_count": 6,
   "metadata": {},
   "outputs": [],
   "source": [
    "analyzer = {\n",
    "    \"my_analyzer\": {\n",
    "        \"tokenizer\": \"standard\",\n",
    "        \"filter\": [ \"morfologik_stem\", \"synonym_filter\", \"lowercase\" ]\n",
    "    }\n",
    "}\n",
    "filters = {\n",
    "    \"synonym_filter\": {\n",
    "        \"type\": \"synonym\",\n",
    "        \"lenient\": True,\n",
    "        \"synonyms\": [ \n",
    "                    \"kpk, kodeks postępowania karnego\",\n",
    "                    \"kpc, kodeks postępowania cywilnego\",\n",
    "                    \"kk, kodeks karny\",\n",
    "                    \"kc, kodeks cywilny\"]\n",
    "    }\n",
    "}"
   ]
  },
  {
   "cell_type": "code",
   "execution_count": 7,
   "metadata": {},
   "outputs": [],
   "source": [
    "settings_body = {\n",
    "    \"settings\": {\n",
    "        \"index\": {\n",
    "            \"analysis\": {\n",
    "                \"analyzer\": analyzer,\n",
    "                \"filter\": filters\n",
    "            }\n",
    "        }\n",
    "    },\n",
    "    \"mappings\": {\n",
    "        \"dynamic\": \"strict\",\n",
    "        \"properties\": {\n",
    "            \"text\": {\n",
    "                \"type\": \"text\",\n",
    "                \"term_vector\": \"with_positions_offsets\",\n",
    "                \"analyzer\": \"my_analyzer\"\n",
    "            }\n",
    "        }\n",
    "    }\n",
    "}"
   ]
  },
  {
   "cell_type": "markdown",
   "metadata": {},
   "source": [
    "# Zad 4"
   ]
  },
  {
   "cell_type": "code",
   "execution_count": 8,
   "metadata": {},
   "outputs": [
    {
     "data": {
      "text/plain": [
       "{'acknowledged': True, 'shards_acknowledged': True, 'index': 'my_index'}"
      ]
     },
     "execution_count": 8,
     "metadata": {},
     "output_type": "execute_result"
    }
   ],
   "source": [
    "my_index = 'my_index'\n",
    "es.indices.delete(index=my_index, ignore=[400, 404])\n",
    "es.indices.create(\n",
    "    index=my_index,\n",
    "    body=settings_body\n",
    ")\n"
   ]
  },
  {
   "cell_type": "markdown",
   "metadata": {},
   "source": [
    "# Zad 5"
   ]
  },
  {
   "cell_type": "code",
   "execution_count": 9,
   "metadata": {},
   "outputs": [],
   "source": [
    "import json\n",
    "\n",
    "documents_ids = []\n",
    "for ustawa in ustawy:\n",
    "    with open(join(mypath, ustawa), encoding='utf-8') as f:\n",
    "        text = f.read()\n",
    "        record = json.dumps({\n",
    "            \"text\": text\n",
    "        })\n",
    "        outcome = es.index(index=my_index, body=record)\n",
    "        documents_ids.append(outcome)"
   ]
  },
  {
   "cell_type": "markdown",
   "metadata": {},
   "source": [
    "# Zad 6"
   ]
  },
  {
   "cell_type": "code",
   "execution_count": 10,
   "metadata": {},
   "outputs": [],
   "source": [
    "res_count = es.count(index=my_index, body={\n",
    "    \"query\": {\n",
    "        \"match\": {\n",
    "            \"text\": {\n",
    "                \"query\": \"ustawa\"\n",
    "            }\n",
    "        }\n",
    "    }\n",
    "})"
   ]
  },
  {
   "cell_type": "code",
   "execution_count": 11,
   "metadata": {},
   "outputs": [
    {
     "name": "stdout",
     "output_type": "stream",
     "text": [
      "Liczba dokumentów ze słowem \"ustawa\" w dowolnej formie:  1178\n"
     ]
    }
   ],
   "source": [
    "print(\"Liczba dokumentów ze słowem \\\"ustawa\\\" w dowolnej formie: \", res_count['count'])"
   ]
  },
  {
   "cell_type": "markdown",
   "metadata": {},
   "source": [
    "# Zad 7"
   ]
  },
  {
   "cell_type": "code",
   "execution_count": 12,
   "metadata": {},
   "outputs": [],
   "source": [
    "def count_word_in_docs(word):\n",
    "    res = es.search(index=my_index, body={\n",
    "        \"size\": 10000,\n",
    "        \"query\": {\n",
    "            \"query_string\": {\n",
    "                \"fields\": [\"text\"],\n",
    "                \"query\": word,\n",
    "                \"analyzer\": \"my_analyzer\"\n",
    "            }\n",
    "        }\n",
    "    })\n",
    "\n",
    "    ids = [h['_id'] for h in res['hits']['hits']]\n",
    "    sum = 0\n",
    "\n",
    "    for id in ids:\n",
    "        vectors = es.termvectors(\n",
    "                index=my_index,\n",
    "                id=id,\n",
    "                fields=['text'], \n",
    "                field_statistics=False\n",
    "        )\n",
    "        sum += vectors['term_vectors']['text']['terms'][word]['term_freq']\n",
    "    return sum"
   ]
  },
  {
   "cell_type": "code",
   "execution_count": 13,
   "metadata": {},
   "outputs": [],
   "source": [
    "ustawa_count = count_word_in_docs('ustawa')"
   ]
  },
  {
   "cell_type": "code",
   "execution_count": 14,
   "metadata": {},
   "outputs": [
    {
     "name": "stdout",
     "output_type": "stream",
     "text": [
      "Liczba wystąpień słowa \"ustawa\" w każdej formie:  24934\n"
     ]
    }
   ],
   "source": [
    "print(\"Liczba wystąpień słowa \\\"ustawa\\\" w każdej formie: \", ustawa_count)"
   ]
  },
  {
   "cell_type": "markdown",
   "metadata": {},
   "source": [
    "# Zad 8"
   ]
  },
  {
   "cell_type": "code",
   "execution_count": 15,
   "metadata": {},
   "outputs": [],
   "source": [
    "ustaw_count = count_word_in_docs('ustawić')"
   ]
  },
  {
   "cell_type": "code",
   "execution_count": 16,
   "metadata": {},
   "outputs": [
    {
     "name": "stdout",
     "output_type": "stream",
     "text": [
      "Liczba wystąpień słowa \"ustaw\" w każdej formie:  913\n"
     ]
    }
   ],
   "source": [
    "print(\"Liczba wystąpień słowa \\\"ustaw\\\" w każdej formie: \", ustaw_count)"
   ]
  },
  {
   "cell_type": "markdown",
   "metadata": {},
   "source": [
    "# Zad 9"
   ]
  },
  {
   "cell_type": "code",
   "execution_count": 58,
   "metadata": {},
   "outputs": [],
   "source": [
    "res_count = es.count(index=my_index, body={\n",
    "    \"query\": {\n",
    "        \"match_phrase\": {\n",
    "            \"text\": {\n",
    "                \"query\": \"kodeks postępowania cywilnego\"\n",
    "            }\n",
    "        }\n",
    "    }\n",
    "})"
   ]
  },
  {
   "cell_type": "code",
   "execution_count": 59,
   "metadata": {},
   "outputs": [
    {
     "name": "stdout",
     "output_type": "stream",
     "text": [
      "Liczba dokumentów z frazą \"kodeks postępowania cywilnego\" w dowolnej formie:  99\n"
     ]
    }
   ],
   "source": [
    "print(\"Liczba dokumentów z frazą \\\"kodeks postępowania cywilnego\\\" w dowolnej formie: \", res_count['count'])"
   ]
  },
  {
   "cell_type": "markdown",
   "metadata": {},
   "source": [
    "# Zad 10"
   ]
  },
  {
   "cell_type": "code",
   "execution_count": 56,
   "metadata": {},
   "outputs": [],
   "source": [
    "res_count = es.count(index=my_index, body={\n",
    "    \"query\": {\n",
    "        \"match_phrase\": {\n",
    "            \"text\": {\n",
    "                \"query\": \"wchodzi w życie\",\n",
    "                \"slop\": 2\n",
    "            }\n",
    "        }\n",
    "    }\n",
    "})"
   ]
  },
  {
   "cell_type": "code",
   "execution_count": 57,
   "metadata": {},
   "outputs": [
    {
     "name": "stdout",
     "output_type": "stream",
     "text": [
      "Liczba dokumentów z frazą \"wchodzi w życie\" w dowolnej formie:  1174\n"
     ]
    }
   ],
   "source": [
    "print(\"Liczba dokumentów z frazą \\\"wchodzi w życie\\\" w dowolnej formie: \", res_count['count'])"
   ]
  },
  {
   "cell_type": "markdown",
   "metadata": {},
   "source": [
    "# Zad 11"
   ]
  },
  {
   "cell_type": "code",
   "execution_count": 44,
   "metadata": {},
   "outputs": [],
   "source": [
    "res = es.search(index=my_index, body={\n",
    "    \"size\": 10,\n",
    "    \"query\": {\n",
    "        \"match\": {\n",
    "            \"text\": {\n",
    "                \"query\": \"konstytucja\"\n",
    "            }\n",
    "        }\n",
    "    },\n",
    "    \"highlight\": {\n",
    "        \"fields\": {\n",
    "            \"text\": {}\n",
    "        },\n",
    "        \"boundary_scanner\": \"sentence\",\n",
    "        \"fragment_size\": 40,\n",
    "        \"number_of_fragments\": 3,\n",
    "        \"order\": \"score\",\n",
    "        \"type\": \"unified\"\n",
    "    }\n",
    "})\n",
    "\n",
    "hits = res['hits']['hits']"
   ]
  },
  {
   "cell_type": "code",
   "execution_count": 45,
   "metadata": {},
   "outputs": [],
   "source": [
    "id_to_name_dic = {}\n",
    "for i in range(len(ustawy)):\n",
    "     id_to_name_dic[documents_ids[i]['_id']] = ustawy[i]"
   ]
  },
  {
   "cell_type": "code",
   "execution_count": 46,
   "metadata": {},
   "outputs": [
    {
     "name": "stdout",
     "output_type": "stream",
     "text": [
      "File: 1997_629.txt, score: 6.869192\n",
      "File: 2000_443.txt, score: 6.663512\n",
      "File: 1997_604.txt, score: 6.6323376\n",
      "File: 1996_350.txt, score: 6.627432\n",
      "File: 1997_642.txt, score: 6.2523136\n",
      "File: 2001_23.txt, score: 6.056943\n",
      "File: 1996_199.txt, score: 5.9268084\n",
      "File: 1999_688.txt, score: 5.848971\n",
      "File: 1997_681.txt, score: 5.4654307\n",
      "File: 2001_1082.txt, score: 5.4654307\n"
     ]
    }
   ],
   "source": [
    "for hit in hits:\n",
    "    print(f\"File: {id_to_name_dic[hit['_id']]}, score: {hit['_score']}\")"
   ]
  },
  {
   "cell_type": "markdown",
   "metadata": {},
   "source": [
    "# Zad 12"
   ]
  },
  {
   "cell_type": "code",
   "execution_count": 54,
   "metadata": {},
   "outputs": [
    {
     "name": "stdout",
     "output_type": "stream",
     "text": [
      "Do zgłoszenia projektu <em>Konstytucji</em> załącza\n",
      "--------------------------------------------------------------------------------------------------------------\n",
      "Projekty <em>Konstytucji</em> wniesione na podstawie\n",
      "--------------------------------------------------------------------------------------------------------------\n",
      "Zasady, na których opierać się ma <em>Konstytucja</em>\n",
      "--------------------------------------------------------------------------------------------------------------\n",
      "określonych w art. 89 ust. 1 lub art. 90 <em>Konstytucji</em>\n",
      "--------------------------------------------------------------------------------------------------------------\n",
      "określonych w art. 89 ust. 1 lub art. 90 <em>Konstytucji</em>\n",
      "--------------------------------------------------------------------------------------------------------------\n",
      "której mowa w art. 89\n",
      "  ust. 1 i art. 90 <em>Konstytucji</em>\n",
      "--------------------------------------------------------------------------------------------------------------\n",
      "Wnioski o stwierdzenie zgodności z <em>Konstytucją</em>\n",
      "--------------------------------------------------------------------------------------------------------------\n",
      "Wnioski o stwierdzenie zgodności z <em>Konstytucją</em>\n",
      "--------------------------------------------------------------------------------------------------------------\n",
      "Ciężar udowodnienia niezgodności z <em>Konstytucją</em>\n",
      "--------------------------------------------------------------------------------------------------------------\n",
      "W zakresie określonym w art. 107 <em>Konstytucji</em>\n",
      "--------------------------------------------------------------------------------------------------------------\n",
      "Za naruszenie <em>Konstytucji</em> lub ustawy, w związku\n",
      "--------------------------------------------------------------------------------------------------------------\n",
      "Trybunałem\n",
      "           Stanu za naruszenie <em>Konstytucji</em>\n",
      "--------------------------------------------------------------------------------------------------------------\n",
      "umów międzynarodowych z\n",
      "               <em>Konstytucją</em>\n",
      "--------------------------------------------------------------------------------------------------------------\n",
      "4) stwierdzenie zgodności z <em>Konstytucją</em>\n",
      "--------------------------------------------------------------------------------------------------------------\n",
      "centralne organy państwowe, z <em>Konstytucją</em>\n",
      "--------------------------------------------------------------------------------------------------------------\n",
      "referendum zatwierdzającego zmianę\n",
      "     <em>Konstytucji</em>\n",
      "--------------------------------------------------------------------------------------------------------------\n",
      "Dziennikiem\n",
      "  Ustaw\", ogłasza się:\n",
      "   1) <em>Konstytucję</em>\n",
      "--------------------------------------------------------------------------------------------------------------\n",
      "2) referendum zatwierdzającego zmianę <em>Konstytucji</em>\n",
      "--------------------------------------------------------------------------------------------------------------\n",
      "Przyjęcie w referendum <em>Konstytucji</em> następuje\n",
      "--------------------------------------------------------------------------------------------------------------\n",
      "r. o trybie przygotowania i uchwalenia <em>Konstytucji</em>\n",
      "--------------------------------------------------------------------------------------------------------------\n",
      "r. o trybie przygotowania i uchwalenia <em>Konstytucji</em>\n",
      "--------------------------------------------------------------------------------------------------------------\n",
      "powinien odpowiadać wymogom\n",
      "  zawartym w <em>Konstytucji</em>\n",
      "--------------------------------------------------------------------------------------------------------------\n",
      "obywateli, o której mowa w art. 118 ust. 2 <em>Konstytucji</em>\n",
      "--------------------------------------------------------------------------------------------------------------\n",
      "ustawy nie może dotyczyć spraw, dla których <em>Konstytucja</em>\n",
      "--------------------------------------------------------------------------------------------------------------\n",
      "na straży praw dziecka\n",
      "  określonych w <em>Konstytucji</em>\n",
      "--------------------------------------------------------------------------------------------------------------\n",
      "Rzecznika Praw Dziecka dochowam wierności <em>Konstytucji</em>\n",
      "--------------------------------------------------------------------------------------------------------------\n",
      "dalej \"Radą\", realizuje cele określone w\n",
      "  <em>Konstytucji</em>\n",
      "--------------------------------------------------------------------------------------------------------------\n",
      "Konstytucyjnego o\n",
      "     zbadanie zgodności z <em>Konstytucją</em>\n",
      "--------------------------------------------------------------------------------------------------------------\n"
     ]
    }
   ],
   "source": [
    "for hit in hits:\n",
    "    highlights = hit['highlight']['text']\n",
    "    for highlight in highlights:\n",
    "        print(highlight)\n",
    "        print(\"--------------------------------------------------------------------------------------------------------------\")"
   ]
  }
 ],
 "metadata": {
  "kernelspec": {
   "display_name": "Python 3",
   "language": "python",
   "name": "python3"
  },
  "language_info": {
   "codemirror_mode": {
    "name": "ipython",
    "version": 3
   },
   "file_extension": ".py",
   "mimetype": "text/x-python",
   "name": "python",
   "nbconvert_exporter": "python",
   "pygments_lexer": "ipython3",
   "version": "3.8.3"
  }
 },
 "nbformat": 4,
 "nbformat_minor": 4
}
